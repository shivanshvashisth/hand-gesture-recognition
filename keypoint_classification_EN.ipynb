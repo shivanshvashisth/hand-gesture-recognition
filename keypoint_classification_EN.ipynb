{
 "cells": [
  {
   "cell_type": "code",
   "execution_count": 2,
   "metadata": {
    "id": "igMyGnjE9hEp"
   },
   "outputs": [],
   "source": [
    "import csv\n",
    "\n",
    "import numpy as np\n",
    "import tensorflow as tf\n",
    "from sklearn.model_selection import train_test_split\n",
    "\n",
    "RANDOM_SEED = 42"
   ]
  },
  {
   "cell_type": "markdown",
   "metadata": {
    "id": "t2HDvhIu9hEr"
   },
   "source": [
    "# Specify each path"
   ]
  },
  {
   "cell_type": "code",
   "execution_count": 3,
   "metadata": {
    "id": "9NvZP2Zn9hEy"
   },
   "outputs": [],
   "source": [
    "dataset = 'model/keypoint_classifier/keypoint.csv'\n",
    "model_save_path = 'model/keypoint_classifier/keypoint_classifier.hdf5'\n",
    "tflite_save_path = 'model/keypoint_classifier/keypoint_classifier.tflite'"
   ]
  },
  {
   "cell_type": "markdown",
   "metadata": {
    "id": "s5oMH7x19hEz"
   },
   "source": [
    "# Set number of classes"
   ]
  },
  {
   "cell_type": "code",
   "execution_count": 9,
   "metadata": {
    "id": "du4kodXL9hEz"
   },
   "outputs": [],
   "source": [
    "NUM_CLASSES = 9"
   ]
  },
  {
   "cell_type": "markdown",
   "metadata": {
    "id": "XjnL0uso9hEz"
   },
   "source": [
    "# Dataset reading"
   ]
  },
  {
   "cell_type": "code",
   "execution_count": 10,
   "metadata": {
    "id": "QT5ZqtEz9hE0"
   },
   "outputs": [],
   "source": [
    "X_dataset = np.loadtxt(dataset, delimiter=',', dtype='float32', usecols=list(range(1, (21 * 2) + 1)))"
   ]
  },
  {
   "cell_type": "code",
   "execution_count": 11,
   "metadata": {
    "id": "QmoKFsp49hE0"
   },
   "outputs": [],
   "source": [
    "y_dataset = np.loadtxt(dataset, delimiter=',', dtype='int32', usecols=(0))"
   ]
  },
  {
   "cell_type": "code",
   "execution_count": 12,
   "metadata": {
    "id": "xQU7JTZ_9hE0"
   },
   "outputs": [],
   "source": [
    "X_train, X_test, y_train, y_test = train_test_split(X_dataset, y_dataset, train_size=0.75, random_state=RANDOM_SEED)"
   ]
  },
  {
   "cell_type": "markdown",
   "metadata": {
    "id": "mxK_lETT9hE0"
   },
   "source": [
    "# Model building"
   ]
  },
  {
   "cell_type": "code",
   "execution_count": 13,
   "metadata": {
    "id": "vHBmUf1t9hE1"
   },
   "outputs": [],
   "source": [
    "model = tf.keras.models.Sequential([\n",
    "    tf.keras.layers.Input((21 * 2, )),\n",
    "    tf.keras.layers.Dropout(0.2),\n",
    "    tf.keras.layers.Dense(20, activation='relu'),\n",
    "    tf.keras.layers.Dropout(0.4),\n",
    "    tf.keras.layers.Dense(10, activation='relu'),\n",
    "    tf.keras.layers.Dense(NUM_CLASSES, activation='softmax')\n",
    "])"
   ]
  },
  {
   "cell_type": "code",
   "execution_count": 14,
   "metadata": {
    "colab": {
     "base_uri": "https://localhost:8080/"
    },
    "id": "ypqky9tc9hE1",
    "outputId": "5db082bb-30e3-4110-bf63-a1ee777ecd46"
   },
   "outputs": [
    {
     "name": "stdout",
     "output_type": "stream",
     "text": [
      "Model: \"sequential_1\"\n",
      "_________________________________________________________________\n",
      " Layer (type)                Output Shape              Param #   \n",
      "=================================================================\n",
      " dropout_2 (Dropout)         (None, 42)                0         \n",
      "                                                                 \n",
      " dense_3 (Dense)             (None, 20)                860       \n",
      "                                                                 \n",
      " dropout_3 (Dropout)         (None, 20)                0         \n",
      "                                                                 \n",
      " dense_4 (Dense)             (None, 10)                210       \n",
      "                                                                 \n",
      " dense_5 (Dense)             (None, 9)                 99        \n",
      "                                                                 \n",
      "=================================================================\n",
      "Total params: 1169 (4.57 KB)\n",
      "Trainable params: 1169 (4.57 KB)\n",
      "Non-trainable params: 0 (0.00 Byte)\n",
      "_________________________________________________________________\n"
     ]
    }
   ],
   "source": [
    "model.summary()  # tf.keras.utils.plot_model(model, show_shapes=True)"
   ]
  },
  {
   "cell_type": "code",
   "execution_count": 15,
   "metadata": {
    "id": "MbMjOflQ9hE1"
   },
   "outputs": [],
   "source": [
    "# Model checkpoint callback\n",
    "cp_callback = tf.keras.callbacks.ModelCheckpoint(\n",
    "    model_save_path, verbose=1, save_weights_only=False)\n",
    "# Callback for early stopping\n",
    "es_callback = tf.keras.callbacks.EarlyStopping(patience=20, verbose=1)"
   ]
  },
  {
   "cell_type": "code",
   "execution_count": 16,
   "metadata": {
    "id": "c3Dac0M_9hE2"
   },
   "outputs": [
    {
     "name": "stdout",
     "output_type": "stream",
     "text": [
      "WARNING:tensorflow:From C:\\Users\\shiva\\AppData\\Local\\Programs\\Python\\Python311\\Lib\\site-packages\\keras\\src\\optimizers\\__init__.py:309: The name tf.train.Optimizer is deprecated. Please use tf.compat.v1.train.Optimizer instead.\n",
      "\n"
     ]
    }
   ],
   "source": [
    "# Model compilation\n",
    "model.compile(\n",
    "    optimizer='adam',\n",
    "    loss='sparse_categorical_crossentropy',\n",
    "    metrics=['accuracy']\n",
    ")"
   ]
  },
  {
   "cell_type": "markdown",
   "metadata": {
    "id": "7XI0j1Iu9hE2"
   },
   "source": [
    "# Model training"
   ]
  },
  {
   "cell_type": "code",
   "execution_count": 33,
   "metadata": {
    "colab": {
     "base_uri": "https://localhost:8080/"
    },
    "id": "WirBl-JE9hE3",
    "outputId": "71b30ca2-8294-4d9d-8aa2-800d90d399de",
    "scrolled": true
   },
   "outputs": [
    {
     "name": "stdout",
     "output_type": "stream",
     "text": [
      "Epoch 1/1000\n",
      "43/43 [==============================] - ETA: 0s - loss: 2.0871 - accuracy: 0.1630\n",
      "Epoch 1: saving model to model/keypoint_classifier\\keypoint_classifier.hdf5\n",
      "43/43 [==============================] - 1s 9ms/step - loss: 2.0871 - accuracy: 0.1630 - val_loss: 1.9755 - val_accuracy: 0.2646\n",
      "Epoch 2/1000\n",
      "20/43 [============>.................] - ETA: 0s - loss: 1.9940 - accuracy: 0.2246"
     ]
    },
    {
     "name": "stderr",
     "output_type": "stream",
     "text": [
      "C:\\Users\\shiva\\AppData\\Local\\Programs\\Python\\Python311\\Lib\\site-packages\\keras\\src\\engine\\training.py:3103: UserWarning: You are saving your model as an HDF5 file via `model.save()`. This file format is considered legacy. We recommend using instead the native Keras format, e.g. `model.save('my_model.keras')`.\n",
      "  saving_api.save_model(\n"
     ]
    },
    {
     "name": "stdout",
     "output_type": "stream",
     "text": [
      "\n",
      "Epoch 2: saving model to model/keypoint_classifier\\keypoint_classifier.hdf5\n",
      "43/43 [==============================] - 0s 4ms/step - loss: 1.9656 - accuracy: 0.2347 - val_loss: 1.8738 - val_accuracy: 0.2536\n",
      "Epoch 3/1000\n",
      "20/43 [============>.................] - ETA: 0s - loss: 1.9025 - accuracy: 0.2406\n",
      "Epoch 3: saving model to model/keypoint_classifier\\keypoint_classifier.hdf5\n",
      "43/43 [==============================] - 0s 4ms/step - loss: 1.8831 - accuracy: 0.2494 - val_loss: 1.7917 - val_accuracy: 0.2790\n",
      "Epoch 4/1000\n",
      "22/43 [==============>...............] - ETA: 0s - loss: 1.8350 - accuracy: 0.2688\n",
      "Epoch 4: saving model to model/keypoint_classifier\\keypoint_classifier.hdf5\n",
      "43/43 [==============================] - 0s 5ms/step - loss: 1.8178 - accuracy: 0.2761 - val_loss: 1.7059 - val_accuracy: 0.3608\n",
      "Epoch 5/1000\n",
      "22/43 [==============>...............] - ETA: 0s - loss: 1.7732 - accuracy: 0.3026\n",
      "Epoch 5: saving model to model/keypoint_classifier\\keypoint_classifier.hdf5\n",
      "43/43 [==============================] - 0s 4ms/step - loss: 1.7637 - accuracy: 0.3069 - val_loss: 1.6260 - val_accuracy: 0.4503\n",
      "Epoch 6/1000\n",
      "32/43 [=====================>........] - ETA: 0s - loss: 1.7124 - accuracy: 0.3418\n",
      "Epoch 6: saving model to model/keypoint_classifier\\keypoint_classifier.hdf5\n",
      "43/43 [==============================] - 0s 4ms/step - loss: 1.6996 - accuracy: 0.3474 - val_loss: 1.5419 - val_accuracy: 0.4740\n",
      "Epoch 7/1000\n",
      "42/43 [============================>.] - ETA: 0s - loss: 1.6477 - accuracy: 0.3586\n",
      "Epoch 7: saving model to model/keypoint_classifier\\keypoint_classifier.hdf5\n",
      "43/43 [==============================] - 0s 4ms/step - loss: 1.6472 - accuracy: 0.3590 - val_loss: 1.4658 - val_accuracy: 0.4928\n",
      "Epoch 8/1000\n",
      "25/43 [================>.............] - ETA: 0s - loss: 1.6099 - accuracy: 0.3678\n",
      "Epoch 8: saving model to model/keypoint_classifier\\keypoint_classifier.hdf5\n",
      "43/43 [==============================] - 0s 4ms/step - loss: 1.6034 - accuracy: 0.3673 - val_loss: 1.3998 - val_accuracy: 0.5177\n",
      "Epoch 9/1000\n",
      "26/43 [=================>............] - ETA: 0s - loss: 1.5578 - accuracy: 0.3879\n",
      "Epoch 9: saving model to model/keypoint_classifier\\keypoint_classifier.hdf5\n",
      "43/43 [==============================] - 0s 4ms/step - loss: 1.5490 - accuracy: 0.3964 - val_loss: 1.3408 - val_accuracy: 0.5475\n",
      "Epoch 10/1000\n",
      "28/43 [==================>...........] - ETA: 0s - loss: 1.5168 - accuracy: 0.4157\n",
      "Epoch 10: saving model to model/keypoint_classifier\\keypoint_classifier.hdf5\n",
      "43/43 [==============================] - 0s 4ms/step - loss: 1.5049 - accuracy: 0.4213 - val_loss: 1.2722 - val_accuracy: 0.6243\n",
      "Epoch 11/1000\n",
      "31/43 [====================>.........] - ETA: 0s - loss: 1.4473 - accuracy: 0.4456\n",
      "Epoch 11: saving model to model/keypoint_classifier\\keypoint_classifier.hdf5\n",
      "43/43 [==============================] - 0s 4ms/step - loss: 1.4451 - accuracy: 0.4487 - val_loss: 1.2062 - val_accuracy: 0.6365\n",
      "Epoch 12/1000\n",
      "25/43 [================>.............] - ETA: 0s - loss: 1.4452 - accuracy: 0.4509\n",
      "Epoch 12: saving model to model/keypoint_classifier\\keypoint_classifier.hdf5\n",
      "43/43 [==============================] - 0s 4ms/step - loss: 1.4226 - accuracy: 0.4555 - val_loss: 1.1518 - val_accuracy: 0.6856\n",
      "Epoch 13/1000\n",
      "22/43 [==============>...............] - ETA: 0s - loss: 1.3921 - accuracy: 0.4563\n",
      "Epoch 13: saving model to model/keypoint_classifier\\keypoint_classifier.hdf5\n",
      "43/43 [==============================] - 0s 4ms/step - loss: 1.3821 - accuracy: 0.4642 - val_loss: 1.1081 - val_accuracy: 0.6856\n",
      "Epoch 14/1000\n",
      "26/43 [=================>............] - ETA: 0s - loss: 1.3238 - accuracy: 0.4904\n",
      "Epoch 14: saving model to model/keypoint_classifier\\keypoint_classifier.hdf5\n",
      "43/43 [==============================] - 0s 3ms/step - loss: 1.3153 - accuracy: 0.5003 - val_loss: 1.0524 - val_accuracy: 0.7083\n",
      "Epoch 15/1000\n",
      "31/43 [====================>.........] - ETA: 0s - loss: 1.3034 - accuracy: 0.5081\n",
      "Epoch 15: saving model to model/keypoint_classifier\\keypoint_classifier.hdf5\n",
      "43/43 [==============================] - 0s 4ms/step - loss: 1.2984 - accuracy: 0.5106 - val_loss: 1.0084 - val_accuracy: 0.7188\n",
      "Epoch 16/1000\n",
      "36/43 [========================>.....] - ETA: 0s - loss: 1.2763 - accuracy: 0.5271\n",
      "Epoch 16: saving model to model/keypoint_classifier\\keypoint_classifier.hdf5\n",
      "43/43 [==============================] - 0s 5ms/step - loss: 1.2704 - accuracy: 0.5297 - val_loss: 0.9716 - val_accuracy: 0.7552\n",
      "Epoch 17/1000\n",
      "20/43 [============>.................] - ETA: 0s - loss: 1.2530 - accuracy: 0.5391\n",
      "Epoch 17: saving model to model/keypoint_classifier\\keypoint_classifier.hdf5\n",
      "43/43 [==============================] - 0s 4ms/step - loss: 1.2483 - accuracy: 0.5401 - val_loss: 0.9390 - val_accuracy: 0.7569\n",
      "Epoch 18/1000\n",
      "29/43 [===================>..........] - ETA: 0s - loss: 1.2197 - accuracy: 0.5461\n",
      "Epoch 18: saving model to model/keypoint_classifier\\keypoint_classifier.hdf5\n",
      "43/43 [==============================] - 0s 4ms/step - loss: 1.2288 - accuracy: 0.5452 - val_loss: 0.9133 - val_accuracy: 0.7818\n",
      "Epoch 19/1000\n",
      "22/43 [==============>...............] - ETA: 0s - loss: 1.2225 - accuracy: 0.5433\n",
      "Epoch 19: saving model to model/keypoint_classifier\\keypoint_classifier.hdf5\n",
      "43/43 [==============================] - 0s 4ms/step - loss: 1.2101 - accuracy: 0.5515 - val_loss: 0.8841 - val_accuracy: 0.7956\n",
      "Epoch 20/1000\n",
      "26/43 [=================>............] - ETA: 0s - loss: 1.1859 - accuracy: 0.5577\n",
      "Epoch 20: saving model to model/keypoint_classifier\\keypoint_classifier.hdf5\n",
      "43/43 [==============================] - 0s 4ms/step - loss: 1.1880 - accuracy: 0.5629 - val_loss: 0.8500 - val_accuracy: 0.7961\n",
      "Epoch 21/1000\n",
      "20/43 [============>.................] - ETA: 0s - loss: 1.1629 - accuracy: 0.5703\n",
      "Epoch 21: saving model to model/keypoint_classifier\\keypoint_classifier.hdf5\n",
      "43/43 [==============================] - 0s 4ms/step - loss: 1.1590 - accuracy: 0.5716 - val_loss: 0.8285 - val_accuracy: 0.8116\n",
      "Epoch 22/1000\n",
      "28/43 [==================>...........] - ETA: 0s - loss: 1.1450 - accuracy: 0.5790\n",
      "Epoch 22: saving model to model/keypoint_classifier\\keypoint_classifier.hdf5\n",
      "43/43 [==============================] - 0s 4ms/step - loss: 1.1444 - accuracy: 0.5786 - val_loss: 0.8076 - val_accuracy: 0.8088\n",
      "Epoch 23/1000\n",
      "23/43 [===============>..............] - ETA: 0s - loss: 1.1368 - accuracy: 0.5859\n",
      "Epoch 23: saving model to model/keypoint_classifier\\keypoint_classifier.hdf5\n",
      "43/43 [==============================] - 0s 4ms/step - loss: 1.1303 - accuracy: 0.5898 - val_loss: 0.7863 - val_accuracy: 0.8171\n",
      "Epoch 24/1000\n",
      "29/43 [===================>..........] - ETA: 0s - loss: 1.1305 - accuracy: 0.5841\n",
      "Epoch 24: saving model to model/keypoint_classifier\\keypoint_classifier.hdf5\n",
      "43/43 [==============================] - 0s 4ms/step - loss: 1.1343 - accuracy: 0.5808 - val_loss: 0.7822 - val_accuracy: 0.8138\n",
      "Epoch 25/1000\n",
      "27/43 [=================>............] - ETA: 0s - loss: 1.1069 - accuracy: 0.5920\n",
      "Epoch 25: saving model to model/keypoint_classifier\\keypoint_classifier.hdf5\n",
      "43/43 [==============================] - 0s 4ms/step - loss: 1.1118 - accuracy: 0.5916 - val_loss: 0.7579 - val_accuracy: 0.8232\n",
      "Epoch 26/1000\n",
      "36/43 [========================>.....] - ETA: 0s - loss: 1.1197 - accuracy: 0.5974\n",
      "Epoch 26: saving model to model/keypoint_classifier\\keypoint_classifier.hdf5\n",
      "43/43 [==============================] - 0s 5ms/step - loss: 1.1100 - accuracy: 0.5966 - val_loss: 0.7474 - val_accuracy: 0.8320\n",
      "Epoch 27/1000\n",
      "41/43 [===========================>..] - ETA: 0s - loss: 1.0700 - accuracy: 0.5985\n",
      "Epoch 27: saving model to model/keypoint_classifier\\keypoint_classifier.hdf5\n",
      "43/43 [==============================] - 0s 4ms/step - loss: 1.0676 - accuracy: 0.5996 - val_loss: 0.7245 - val_accuracy: 0.8320\n",
      "Epoch 28/1000\n",
      "39/43 [==========================>...] - ETA: 0s - loss: 1.0756 - accuracy: 0.6094\n",
      "Epoch 28: saving model to model/keypoint_classifier\\keypoint_classifier.hdf5\n",
      "43/43 [==============================] - 0s 4ms/step - loss: 1.0776 - accuracy: 0.6097 - val_loss: 0.7113 - val_accuracy: 0.8348\n",
      "Epoch 29/1000\n",
      "27/43 [=================>............] - ETA: 0s - loss: 1.0759 - accuracy: 0.5998\n",
      "Epoch 29: saving model to model/keypoint_classifier\\keypoint_classifier.hdf5\n",
      "43/43 [==============================] - 0s 4ms/step - loss: 1.0777 - accuracy: 0.6032 - val_loss: 0.7041 - val_accuracy: 0.8370\n",
      "Epoch 30/1000\n",
      "27/43 [=================>............] - ETA: 0s - loss: 1.0493 - accuracy: 0.6166\n",
      "Epoch 30: saving model to model/keypoint_classifier\\keypoint_classifier.hdf5\n",
      "43/43 [==============================] - 0s 4ms/step - loss: 1.0537 - accuracy: 0.6152 - val_loss: 0.6870 - val_accuracy: 0.8475\n",
      "Epoch 31/1000\n",
      "28/43 [==================>...........] - ETA: 0s - loss: 1.0592 - accuracy: 0.6144\n",
      "Epoch 31: saving model to model/keypoint_classifier\\keypoint_classifier.hdf5\n",
      "43/43 [==============================] - 0s 4ms/step - loss: 1.0691 - accuracy: 0.6141 - val_loss: 0.6830 - val_accuracy: 0.8442\n",
      "Epoch 32/1000\n",
      "21/43 [=============>................] - ETA: 0s - loss: 1.0416 - accuracy: 0.6246\n",
      "Epoch 32: saving model to model/keypoint_classifier\\keypoint_classifier.hdf5\n",
      "43/43 [==============================] - 0s 4ms/step - loss: 1.0299 - accuracy: 0.6294 - val_loss: 0.6660 - val_accuracy: 0.8552\n",
      "Epoch 33/1000\n",
      "23/43 [===============>..............] - ETA: 0s - loss: 1.0304 - accuracy: 0.6318\n",
      "Epoch 33: saving model to model/keypoint_classifier\\keypoint_classifier.hdf5\n",
      "43/43 [==============================] - 0s 4ms/step - loss: 1.0245 - accuracy: 0.6347 - val_loss: 0.6534 - val_accuracy: 0.8564\n",
      "Epoch 34/1000\n",
      "22/43 [==============>...............] - ETA: 0s - loss: 1.0384 - accuracy: 0.6332\n",
      "Epoch 34: saving model to model/keypoint_classifier\\keypoint_classifier.hdf5\n",
      "43/43 [==============================] - 0s 4ms/step - loss: 1.0246 - accuracy: 0.6360 - val_loss: 0.6531 - val_accuracy: 0.8530\n",
      "Epoch 35/1000\n",
      "43/43 [==============================] - ETA: 0s - loss: 1.0171 - accuracy: 0.6355\n",
      "Epoch 35: saving model to model/keypoint_classifier\\keypoint_classifier.hdf5\n",
      "43/43 [==============================] - 0s 5ms/step - loss: 1.0171 - accuracy: 0.6355 - val_loss: 0.6404 - val_accuracy: 0.8558\n",
      "Epoch 36/1000\n",
      "22/43 [==============>...............] - ETA: 0s - loss: 1.0358 - accuracy: 0.6218\n",
      "Epoch 36: saving model to model/keypoint_classifier\\keypoint_classifier.hdf5\n",
      "43/43 [==============================] - 0s 4ms/step - loss: 1.0304 - accuracy: 0.6301 - val_loss: 0.6353 - val_accuracy: 0.8530\n",
      "Epoch 37/1000\n",
      "24/43 [===============>..............] - ETA: 0s - loss: 1.0092 - accuracy: 0.6439\n",
      "Epoch 37: saving model to model/keypoint_classifier\\keypoint_classifier.hdf5\n",
      "43/43 [==============================] - 0s 4ms/step - loss: 1.0039 - accuracy: 0.6452 - val_loss: 0.6295 - val_accuracy: 0.8503\n",
      "Epoch 38/1000\n",
      "22/43 [==============>...............] - ETA: 0s - loss: 1.0014 - accuracy: 0.6460\n",
      "Epoch 38: saving model to model/keypoint_classifier\\keypoint_classifier.hdf5\n",
      "43/43 [==============================] - 0s 4ms/step - loss: 1.0236 - accuracy: 0.6368 - val_loss: 0.6201 - val_accuracy: 0.8575\n",
      "Epoch 39/1000\n",
      "24/43 [===============>..............] - ETA: 0s - loss: 1.0131 - accuracy: 0.6289\n",
      "Epoch 39: saving model to model/keypoint_classifier\\keypoint_classifier.hdf5\n",
      "43/43 [==============================] - 0s 4ms/step - loss: 1.0080 - accuracy: 0.6331 - val_loss: 0.6131 - val_accuracy: 0.8547\n",
      "Epoch 40/1000\n",
      "24/43 [===============>..............] - ETA: 0s - loss: 0.9953 - accuracy: 0.6354\n",
      "Epoch 40: saving model to model/keypoint_classifier\\keypoint_classifier.hdf5\n",
      "43/43 [==============================] - 0s 4ms/step - loss: 0.9951 - accuracy: 0.6349 - val_loss: 0.6063 - val_accuracy: 0.8541\n",
      "Epoch 41/1000\n",
      "42/43 [============================>.] - ETA: 0s - loss: 0.9926 - accuracy: 0.6442\n",
      "Epoch 41: saving model to model/keypoint_classifier\\keypoint_classifier.hdf5\n",
      "43/43 [==============================] - 0s 5ms/step - loss: 0.9925 - accuracy: 0.6441 - val_loss: 0.6018 - val_accuracy: 0.8613\n",
      "Epoch 42/1000\n",
      "36/43 [========================>.....] - ETA: 0s - loss: 0.9908 - accuracy: 0.6445\n",
      "Epoch 42: saving model to model/keypoint_classifier\\keypoint_classifier.hdf5\n",
      "43/43 [==============================] - 0s 4ms/step - loss: 0.9859 - accuracy: 0.6456 - val_loss: 0.5968 - val_accuracy: 0.8575\n",
      "Epoch 43/1000\n",
      "29/43 [===================>..........] - ETA: 0s - loss: 0.9834 - accuracy: 0.6447\n",
      "Epoch 43: saving model to model/keypoint_classifier\\keypoint_classifier.hdf5\n",
      "43/43 [==============================] - 0s 4ms/step - loss: 1.0055 - accuracy: 0.6414 - val_loss: 0.5868 - val_accuracy: 0.8580\n",
      "Epoch 44/1000\n",
      "34/43 [======================>.......] - ETA: 0s - loss: 0.9785 - accuracy: 0.6450\n",
      "Epoch 44: saving model to model/keypoint_classifier\\keypoint_classifier.hdf5\n",
      "43/43 [==============================] - 0s 5ms/step - loss: 0.9833 - accuracy: 0.6436 - val_loss: 0.5865 - val_accuracy: 0.8597\n",
      "Epoch 45/1000\n",
      "42/43 [============================>.] - ETA: 0s - loss: 0.9669 - accuracy: 0.6579\n",
      "Epoch 45: saving model to model/keypoint_classifier\\keypoint_classifier.hdf5\n",
      "43/43 [==============================] - 0s 5ms/step - loss: 0.9685 - accuracy: 0.6576 - val_loss: 0.5772 - val_accuracy: 0.8646\n",
      "Epoch 46/1000\n",
      "22/43 [==============>...............] - ETA: 0s - loss: 0.9748 - accuracy: 0.6502\n",
      "Epoch 46: saving model to model/keypoint_classifier\\keypoint_classifier.hdf5\n",
      "43/43 [==============================] - 0s 4ms/step - loss: 0.9749 - accuracy: 0.6526 - val_loss: 0.5760 - val_accuracy: 0.8635\n",
      "Epoch 47/1000\n",
      "42/43 [============================>.] - ETA: 0s - loss: 0.9829 - accuracy: 0.6518\n",
      "Epoch 47: saving model to model/keypoint_classifier\\keypoint_classifier.hdf5\n",
      "43/43 [==============================] - 0s 5ms/step - loss: 0.9839 - accuracy: 0.6508 - val_loss: 0.5673 - val_accuracy: 0.8641\n",
      "Epoch 48/1000\n",
      "25/43 [================>.............] - ETA: 0s - loss: 0.9487 - accuracy: 0.6669\n",
      "Epoch 48: saving model to model/keypoint_classifier\\keypoint_classifier.hdf5\n",
      "43/43 [==============================] - 0s 5ms/step - loss: 0.9716 - accuracy: 0.6519 - val_loss: 0.5590 - val_accuracy: 0.8641\n",
      "Epoch 49/1000\n",
      "23/43 [===============>..............] - ETA: 0s - loss: 0.9628 - accuracy: 0.6590\n",
      "Epoch 49: saving model to model/keypoint_classifier\\keypoint_classifier.hdf5\n",
      "43/43 [==============================] - 0s 4ms/step - loss: 0.9466 - accuracy: 0.6666 - val_loss: 0.5483 - val_accuracy: 0.8619\n",
      "Epoch 50/1000\n",
      "35/43 [=======================>......] - ETA: 0s - loss: 0.9861 - accuracy: 0.6473\n",
      "Epoch 50: saving model to model/keypoint_classifier\\keypoint_classifier.hdf5\n",
      "43/43 [==============================] - 0s 5ms/step - loss: 0.9717 - accuracy: 0.6519 - val_loss: 0.5639 - val_accuracy: 0.8641\n",
      "Epoch 51/1000\n",
      "17/43 [==========>...................] - ETA: 0s - loss: 0.9648 - accuracy: 0.6535\n",
      "Epoch 51: saving model to model/keypoint_classifier\\keypoint_classifier.hdf5\n",
      "43/43 [==============================] - 0s 5ms/step - loss: 0.9500 - accuracy: 0.6626 - val_loss: 0.5620 - val_accuracy: 0.8575\n",
      "Epoch 52/1000\n",
      "29/43 [===================>..........] - ETA: 0s - loss: 0.9459 - accuracy: 0.6662\n",
      "Epoch 52: saving model to model/keypoint_classifier\\keypoint_classifier.hdf5\n",
      "43/43 [==============================] - 0s 4ms/step - loss: 0.9315 - accuracy: 0.6679 - val_loss: 0.5403 - val_accuracy: 0.8652\n",
      "Epoch 53/1000\n",
      "23/43 [===============>..............] - ETA: 0s - loss: 0.9555 - accuracy: 0.6586\n",
      "Epoch 53: saving model to model/keypoint_classifier\\keypoint_classifier.hdf5\n",
      "43/43 [==============================] - 0s 4ms/step - loss: 0.9464 - accuracy: 0.6638 - val_loss: 0.5454 - val_accuracy: 0.8641\n",
      "Epoch 54/1000\n",
      "24/43 [===============>..............] - ETA: 0s - loss: 0.9570 - accuracy: 0.6471\n",
      "Epoch 54: saving model to model/keypoint_classifier\\keypoint_classifier.hdf5\n",
      "43/43 [==============================] - 0s 4ms/step - loss: 0.9531 - accuracy: 0.6533 - val_loss: 0.5407 - val_accuracy: 0.8646\n",
      "Epoch 55/1000\n",
      "18/43 [===========>..................] - ETA: 0s - loss: 0.9414 - accuracy: 0.6697\n",
      "Epoch 55: saving model to model/keypoint_classifier\\keypoint_classifier.hdf5\n",
      "43/43 [==============================] - 0s 4ms/step - loss: 0.9429 - accuracy: 0.6686 - val_loss: 0.5372 - val_accuracy: 0.8613\n",
      "Epoch 56/1000\n",
      "25/43 [================>.............] - ETA: 0s - loss: 0.9304 - accuracy: 0.6644\n",
      "Epoch 56: saving model to model/keypoint_classifier\\keypoint_classifier.hdf5\n",
      "43/43 [==============================] - 0s 4ms/step - loss: 0.9354 - accuracy: 0.6646 - val_loss: 0.5457 - val_accuracy: 0.8624\n",
      "Epoch 57/1000\n",
      "22/43 [==============>...............] - ETA: 0s - loss: 0.9428 - accuracy: 0.6541\n",
      "Epoch 57: saving model to model/keypoint_classifier\\keypoint_classifier.hdf5\n",
      "43/43 [==============================] - 0s 4ms/step - loss: 0.9383 - accuracy: 0.6690 - val_loss: 0.5390 - val_accuracy: 0.8646\n",
      "Epoch 58/1000\n",
      "42/43 [============================>.] - ETA: 0s - loss: 0.9368 - accuracy: 0.6620\n",
      "Epoch 58: saving model to model/keypoint_classifier\\keypoint_classifier.hdf5\n",
      "43/43 [==============================] - 0s 4ms/step - loss: 0.9365 - accuracy: 0.6616 - val_loss: 0.5313 - val_accuracy: 0.8680\n",
      "Epoch 59/1000\n",
      "41/43 [===========================>..] - ETA: 0s - loss: 0.9120 - accuracy: 0.6785\n",
      "Epoch 59: saving model to model/keypoint_classifier\\keypoint_classifier.hdf5\n",
      "43/43 [==============================] - 0s 4ms/step - loss: 0.9125 - accuracy: 0.6769 - val_loss: 0.5269 - val_accuracy: 0.8674\n",
      "Epoch 60/1000\n",
      "24/43 [===============>..............] - ETA: 0s - loss: 0.9419 - accuracy: 0.6725\n",
      "Epoch 60: saving model to model/keypoint_classifier\\keypoint_classifier.hdf5\n",
      "43/43 [==============================] - 0s 4ms/step - loss: 0.9373 - accuracy: 0.6670 - val_loss: 0.5230 - val_accuracy: 0.8635\n",
      "Epoch 61/1000\n",
      "41/43 [===========================>..] - ETA: 0s - loss: 0.9072 - accuracy: 0.6780\n",
      "Epoch 61: saving model to model/keypoint_classifier\\keypoint_classifier.hdf5\n",
      "43/43 [==============================] - 0s 4ms/step - loss: 0.9046 - accuracy: 0.6789 - val_loss: 0.5172 - val_accuracy: 0.8635\n",
      "Epoch 62/1000\n",
      "22/43 [==============>...............] - ETA: 0s - loss: 0.9370 - accuracy: 0.6744\n",
      "Epoch 62: saving model to model/keypoint_classifier\\keypoint_classifier.hdf5\n",
      "43/43 [==============================] - 0s 4ms/step - loss: 0.9149 - accuracy: 0.6734 - val_loss: 0.5140 - val_accuracy: 0.8707\n",
      "Epoch 63/1000\n",
      "23/43 [===============>..............] - ETA: 0s - loss: 0.9359 - accuracy: 0.6668\n",
      "Epoch 63: saving model to model/keypoint_classifier\\keypoint_classifier.hdf5\n",
      "43/43 [==============================] - 0s 4ms/step - loss: 0.9232 - accuracy: 0.6749 - val_loss: 0.5157 - val_accuracy: 0.8669\n",
      "Epoch 64/1000\n",
      "22/43 [==============>...............] - ETA: 0s - loss: 0.9336 - accuracy: 0.6676\n",
      "Epoch 64: saving model to model/keypoint_classifier\\keypoint_classifier.hdf5\n",
      "43/43 [==============================] - 0s 4ms/step - loss: 0.9142 - accuracy: 0.6797 - val_loss: 0.5138 - val_accuracy: 0.8740\n",
      "Epoch 65/1000\n",
      "24/43 [===============>..............] - ETA: 0s - loss: 0.9266 - accuracy: 0.6771\n",
      "Epoch 65: saving model to model/keypoint_classifier\\keypoint_classifier.hdf5\n",
      "43/43 [==============================] - 0s 4ms/step - loss: 0.9217 - accuracy: 0.6731 - val_loss: 0.5171 - val_accuracy: 0.8685\n",
      "Epoch 66/1000\n",
      "23/43 [===============>..............] - ETA: 0s - loss: 0.8769 - accuracy: 0.6895\n",
      "Epoch 66: saving model to model/keypoint_classifier\\keypoint_classifier.hdf5\n",
      "43/43 [==============================] - 0s 4ms/step - loss: 0.8967 - accuracy: 0.6878 - val_loss: 0.5105 - val_accuracy: 0.8713\n",
      "Epoch 67/1000\n",
      "41/43 [===========================>..] - ETA: 0s - loss: 0.8895 - accuracy: 0.6873\n",
      "Epoch 67: saving model to model/keypoint_classifier\\keypoint_classifier.hdf5\n",
      "43/43 [==============================] - 0s 5ms/step - loss: 0.8886 - accuracy: 0.6869 - val_loss: 0.5030 - val_accuracy: 0.8707\n",
      "Epoch 68/1000\n",
      "43/43 [==============================] - ETA: 0s - loss: 0.8806 - accuracy: 0.6819\n",
      "Epoch 68: saving model to model/keypoint_classifier\\keypoint_classifier.hdf5\n",
      "43/43 [==============================] - 0s 5ms/step - loss: 0.8806 - accuracy: 0.6819 - val_loss: 0.5000 - val_accuracy: 0.8707\n",
      "Epoch 69/1000\n",
      "38/43 [=========================>....] - ETA: 0s - loss: 0.8945 - accuracy: 0.6828\n",
      "Epoch 69: saving model to model/keypoint_classifier\\keypoint_classifier.hdf5\n",
      "43/43 [==============================] - 0s 5ms/step - loss: 0.9007 - accuracy: 0.6810 - val_loss: 0.4966 - val_accuracy: 0.8691\n",
      "Epoch 70/1000\n",
      "18/43 [===========>..................] - ETA: 0s - loss: 0.8590 - accuracy: 0.6888\n",
      "Epoch 70: saving model to model/keypoint_classifier\\keypoint_classifier.hdf5\n",
      "43/43 [==============================] - 0s 4ms/step - loss: 0.8780 - accuracy: 0.6880 - val_loss: 0.4997 - val_accuracy: 0.8702\n",
      "Epoch 71/1000\n",
      "24/43 [===============>..............] - ETA: 0s - loss: 0.9153 - accuracy: 0.6781\n",
      "Epoch 71: saving model to model/keypoint_classifier\\keypoint_classifier.hdf5\n",
      "43/43 [==============================] - 0s 4ms/step - loss: 0.9141 - accuracy: 0.6749 - val_loss: 0.5023 - val_accuracy: 0.8680\n",
      "Epoch 72/1000\n",
      "27/43 [=================>............] - ETA: 0s - loss: 0.8867 - accuracy: 0.6892\n",
      "Epoch 72: saving model to model/keypoint_classifier\\keypoint_classifier.hdf5\n",
      "43/43 [==============================] - 0s 4ms/step - loss: 0.8895 - accuracy: 0.6883 - val_loss: 0.4930 - val_accuracy: 0.8724\n",
      "Epoch 73/1000\n",
      "21/43 [=============>................] - ETA: 0s - loss: 0.9148 - accuracy: 0.6786\n",
      "Epoch 73: saving model to model/keypoint_classifier\\keypoint_classifier.hdf5\n",
      "43/43 [==============================] - 0s 4ms/step - loss: 0.8954 - accuracy: 0.6823 - val_loss: 0.5004 - val_accuracy: 0.8691\n",
      "Epoch 74/1000\n",
      "24/43 [===============>..............] - ETA: 0s - loss: 0.9025 - accuracy: 0.6956\n",
      "Epoch 74: saving model to model/keypoint_classifier\\keypoint_classifier.hdf5\n",
      "43/43 [==============================] - 0s 4ms/step - loss: 0.9019 - accuracy: 0.6845 - val_loss: 0.4890 - val_accuracy: 0.8729\n",
      "Epoch 75/1000\n",
      "22/43 [==============>...............] - ETA: 0s - loss: 0.8732 - accuracy: 0.6850\n",
      "Epoch 75: saving model to model/keypoint_classifier\\keypoint_classifier.hdf5\n",
      "43/43 [==============================] - 0s 4ms/step - loss: 0.8771 - accuracy: 0.6852 - val_loss: 0.4935 - val_accuracy: 0.8713\n",
      "Epoch 76/1000\n",
      "23/43 [===============>..............] - ETA: 0s - loss: 0.8972 - accuracy: 0.6780\n",
      "Epoch 76: saving model to model/keypoint_classifier\\keypoint_classifier.hdf5\n",
      "43/43 [==============================] - 0s 4ms/step - loss: 0.8996 - accuracy: 0.6804 - val_loss: 0.4869 - val_accuracy: 0.8746\n",
      "Epoch 77/1000\n",
      "22/43 [==============>...............] - ETA: 0s - loss: 0.9087 - accuracy: 0.6850\n",
      "Epoch 77: saving model to model/keypoint_classifier\\keypoint_classifier.hdf5\n",
      "43/43 [==============================] - 0s 4ms/step - loss: 0.8925 - accuracy: 0.6836 - val_loss: 0.4911 - val_accuracy: 0.8702\n",
      "Epoch 78/1000\n",
      "22/43 [==============>...............] - ETA: 0s - loss: 0.8970 - accuracy: 0.6857\n",
      "Epoch 78: saving model to model/keypoint_classifier\\keypoint_classifier.hdf5\n",
      "43/43 [==============================] - 0s 4ms/step - loss: 0.8821 - accuracy: 0.6911 - val_loss: 0.4931 - val_accuracy: 0.8724\n",
      "Epoch 79/1000\n",
      "25/43 [================>.............] - ETA: 0s - loss: 0.9015 - accuracy: 0.6825\n",
      "Epoch 79: saving model to model/keypoint_classifier\\keypoint_classifier.hdf5\n",
      "43/43 [==============================] - 0s 4ms/step - loss: 0.8851 - accuracy: 0.6865 - val_loss: 0.4793 - val_accuracy: 0.8773\n",
      "Epoch 80/1000\n",
      "43/43 [==============================] - ETA: 0s - loss: 0.8864 - accuracy: 0.6871\n",
      "Epoch 80: saving model to model/keypoint_classifier\\keypoint_classifier.hdf5\n",
      "43/43 [==============================] - 0s 4ms/step - loss: 0.8864 - accuracy: 0.6871 - val_loss: 0.4882 - val_accuracy: 0.8796\n",
      "Epoch 81/1000\n",
      "29/43 [===================>..........] - ETA: 0s - loss: 0.8694 - accuracy: 0.6891\n",
      "Epoch 81: saving model to model/keypoint_classifier\\keypoint_classifier.hdf5\n",
      "43/43 [==============================] - 0s 4ms/step - loss: 0.8799 - accuracy: 0.6867 - val_loss: 0.4889 - val_accuracy: 0.8762\n",
      "Epoch 82/1000\n",
      "22/43 [==============>...............] - ETA: 0s - loss: 0.8641 - accuracy: 0.7042\n",
      "Epoch 82: saving model to model/keypoint_classifier\\keypoint_classifier.hdf5\n",
      "43/43 [==============================] - 0s 4ms/step - loss: 0.8674 - accuracy: 0.6983 - val_loss: 0.4802 - val_accuracy: 0.8762\n",
      "Epoch 83/1000\n",
      "23/43 [===============>..............] - ETA: 0s - loss: 0.8760 - accuracy: 0.6912\n",
      "Epoch 83: saving model to model/keypoint_classifier\\keypoint_classifier.hdf5\n",
      "43/43 [==============================] - 0s 4ms/step - loss: 0.8872 - accuracy: 0.6852 - val_loss: 0.4773 - val_accuracy: 0.8751\n",
      "Epoch 84/1000\n",
      "24/43 [===============>..............] - ETA: 0s - loss: 0.8726 - accuracy: 0.6862\n",
      "Epoch 84: saving model to model/keypoint_classifier\\keypoint_classifier.hdf5\n",
      "43/43 [==============================] - 0s 4ms/step - loss: 0.8722 - accuracy: 0.6894 - val_loss: 0.4819 - val_accuracy: 0.8729\n",
      "Epoch 85/1000\n",
      "22/43 [==============>...............] - ETA: 0s - loss: 0.9003 - accuracy: 0.6850\n",
      "Epoch 85: saving model to model/keypoint_classifier\\keypoint_classifier.hdf5\n",
      "43/43 [==============================] - 0s 4ms/step - loss: 0.8873 - accuracy: 0.6906 - val_loss: 0.4819 - val_accuracy: 0.8779\n",
      "Epoch 86/1000\n",
      "23/43 [===============>..............] - ETA: 0s - loss: 0.9077 - accuracy: 0.6814\n",
      "Epoch 86: saving model to model/keypoint_classifier\\keypoint_classifier.hdf5\n",
      "43/43 [==============================] - 0s 4ms/step - loss: 0.8676 - accuracy: 0.6937 - val_loss: 0.4804 - val_accuracy: 0.8768\n",
      "Epoch 87/1000\n",
      "21/43 [=============>................] - ETA: 0s - loss: 0.8539 - accuracy: 0.7020\n",
      "Epoch 87: saving model to model/keypoint_classifier\\keypoint_classifier.hdf5\n",
      "43/43 [==============================] - 0s 4ms/step - loss: 0.8642 - accuracy: 0.6974 - val_loss: 0.4759 - val_accuracy: 0.8757\n",
      "Epoch 88/1000\n",
      "22/43 [==============>...............] - ETA: 0s - loss: 0.8602 - accuracy: 0.7017\n",
      "Epoch 88: saving model to model/keypoint_classifier\\keypoint_classifier.hdf5\n",
      "43/43 [==============================] - 0s 4ms/step - loss: 0.8614 - accuracy: 0.6966 - val_loss: 0.4734 - val_accuracy: 0.8735\n",
      "Epoch 89/1000\n",
      "24/43 [===============>..............] - ETA: 0s - loss: 0.8493 - accuracy: 0.7025\n",
      "Epoch 89: saving model to model/keypoint_classifier\\keypoint_classifier.hdf5\n",
      "43/43 [==============================] - 0s 4ms/step - loss: 0.8593 - accuracy: 0.6968 - val_loss: 0.4693 - val_accuracy: 0.8707\n",
      "Epoch 90/1000\n",
      "22/43 [==============>...............] - ETA: 0s - loss: 0.8781 - accuracy: 0.6761\n",
      "Epoch 90: saving model to model/keypoint_classifier\\keypoint_classifier.hdf5\n",
      "43/43 [==============================] - 0s 4ms/step - loss: 0.8588 - accuracy: 0.6883 - val_loss: 0.4673 - val_accuracy: 0.8790\n",
      "Epoch 91/1000\n",
      "26/43 [=================>............] - ETA: 0s - loss: 0.8626 - accuracy: 0.7055\n",
      "Epoch 91: saving model to model/keypoint_classifier\\keypoint_classifier.hdf5\n",
      "43/43 [==============================] - 0s 4ms/step - loss: 0.8701 - accuracy: 0.6976 - val_loss: 0.4797 - val_accuracy: 0.8757\n",
      "Epoch 92/1000\n",
      "36/43 [========================>.....] - ETA: 0s - loss: 0.8663 - accuracy: 0.6968\n",
      "Epoch 92: saving model to model/keypoint_classifier\\keypoint_classifier.hdf5\n",
      "43/43 [==============================] - 0s 4ms/step - loss: 0.8711 - accuracy: 0.6931 - val_loss: 0.4741 - val_accuracy: 0.8785\n",
      "Epoch 93/1000\n",
      "22/43 [==============>...............] - ETA: 0s - loss: 0.8585 - accuracy: 0.6985\n",
      "Epoch 93: saving model to model/keypoint_classifier\\keypoint_classifier.hdf5\n",
      "43/43 [==============================] - 0s 4ms/step - loss: 0.8644 - accuracy: 0.6944 - val_loss: 0.4797 - val_accuracy: 0.8729\n",
      "Epoch 94/1000\n",
      "23/43 [===============>..............] - ETA: 0s - loss: 0.8792 - accuracy: 0.6923\n",
      "Epoch 94: saving model to model/keypoint_classifier\\keypoint_classifier.hdf5\n",
      "43/43 [==============================] - 0s 4ms/step - loss: 0.8818 - accuracy: 0.6922 - val_loss: 0.4783 - val_accuracy: 0.8718\n",
      "Epoch 95/1000\n",
      "17/43 [==========>...................] - ETA: 0s - loss: 0.8651 - accuracy: 0.6994\n",
      "Epoch 95: saving model to model/keypoint_classifier\\keypoint_classifier.hdf5\n",
      "43/43 [==============================] - 0s 4ms/step - loss: 0.8682 - accuracy: 0.6928 - val_loss: 0.4660 - val_accuracy: 0.8829\n",
      "Epoch 96/1000\n",
      "22/43 [==============>...............] - ETA: 0s - loss: 0.8396 - accuracy: 0.7095\n",
      "Epoch 96: saving model to model/keypoint_classifier\\keypoint_classifier.hdf5\n",
      "43/43 [==============================] - 0s 5ms/step - loss: 0.8610 - accuracy: 0.7007 - val_loss: 0.4655 - val_accuracy: 0.8812\n",
      "Epoch 97/1000\n",
      "25/43 [================>.............] - ETA: 0s - loss: 0.8653 - accuracy: 0.6947\n",
      "Epoch 97: saving model to model/keypoint_classifier\\keypoint_classifier.hdf5\n",
      "43/43 [==============================] - 0s 4ms/step - loss: 0.8582 - accuracy: 0.6963 - val_loss: 0.4787 - val_accuracy: 0.8762\n",
      "Epoch 98/1000\n",
      "22/43 [==============>...............] - ETA: 0s - loss: 0.8792 - accuracy: 0.6989\n",
      "Epoch 98: saving model to model/keypoint_classifier\\keypoint_classifier.hdf5\n",
      "43/43 [==============================] - 0s 4ms/step - loss: 0.8505 - accuracy: 0.7082 - val_loss: 0.4737 - val_accuracy: 0.8796\n",
      "Epoch 99/1000\n",
      "43/43 [==============================] - ETA: 0s - loss: 0.8501 - accuracy: 0.6968\n",
      "Epoch 99: saving model to model/keypoint_classifier\\keypoint_classifier.hdf5\n",
      "43/43 [==============================] - 0s 4ms/step - loss: 0.8501 - accuracy: 0.6968 - val_loss: 0.4622 - val_accuracy: 0.8807\n",
      "Epoch 100/1000\n",
      "42/43 [============================>.] - ETA: 0s - loss: 0.8457 - accuracy: 0.7081\n",
      "Epoch 100: saving model to model/keypoint_classifier\\keypoint_classifier.hdf5\n",
      "43/43 [==============================] - 0s 4ms/step - loss: 0.8471 - accuracy: 0.7075 - val_loss: 0.4620 - val_accuracy: 0.8801\n",
      "Epoch 101/1000\n",
      "23/43 [===============>..............] - ETA: 0s - loss: 0.8378 - accuracy: 0.7041\n",
      "Epoch 101: saving model to model/keypoint_classifier\\keypoint_classifier.hdf5\n",
      "43/43 [==============================] - 0s 4ms/step - loss: 0.8654 - accuracy: 0.6942 - val_loss: 0.4603 - val_accuracy: 0.8790\n",
      "Epoch 102/1000\n",
      "23/43 [===============>..............] - ETA: 0s - loss: 0.8800 - accuracy: 0.6963\n",
      "Epoch 102: saving model to model/keypoint_classifier\\keypoint_classifier.hdf5\n",
      "43/43 [==============================] - 0s 4ms/step - loss: 0.8701 - accuracy: 0.6955 - val_loss: 0.4734 - val_accuracy: 0.8779\n",
      "Epoch 103/1000\n",
      "21/43 [=============>................] - ETA: 0s - loss: 0.8521 - accuracy: 0.7028\n",
      "Epoch 103: saving model to model/keypoint_classifier\\keypoint_classifier.hdf5\n",
      "43/43 [==============================] - 0s 4ms/step - loss: 0.8567 - accuracy: 0.7031 - val_loss: 0.4767 - val_accuracy: 0.8785\n",
      "Epoch 104/1000\n",
      "42/43 [============================>.] - ETA: 0s - loss: 0.8257 - accuracy: 0.7134\n",
      "Epoch 104: saving model to model/keypoint_classifier\\keypoint_classifier.hdf5\n",
      "43/43 [==============================] - 0s 4ms/step - loss: 0.8269 - accuracy: 0.7130 - val_loss: 0.4608 - val_accuracy: 0.8773\n",
      "Epoch 105/1000\n",
      "24/43 [===============>..............] - ETA: 0s - loss: 0.8489 - accuracy: 0.7044\n",
      "Epoch 105: saving model to model/keypoint_classifier\\keypoint_classifier.hdf5\n",
      "43/43 [==============================] - 0s 4ms/step - loss: 0.8431 - accuracy: 0.7088 - val_loss: 0.4647 - val_accuracy: 0.8801\n",
      "Epoch 106/1000\n",
      "22/43 [==============>...............] - ETA: 0s - loss: 0.8094 - accuracy: 0.7159\n",
      "Epoch 106: saving model to model/keypoint_classifier\\keypoint_classifier.hdf5\n",
      "43/43 [==============================] - 0s 4ms/step - loss: 0.8327 - accuracy: 0.7073 - val_loss: 0.4552 - val_accuracy: 0.8790\n",
      "Epoch 107/1000\n",
      "23/43 [===============>..............] - ETA: 0s - loss: 0.8510 - accuracy: 0.7065\n",
      "Epoch 107: saving model to model/keypoint_classifier\\keypoint_classifier.hdf5\n",
      "43/43 [==============================] - 0s 4ms/step - loss: 0.8622 - accuracy: 0.6988 - val_loss: 0.4556 - val_accuracy: 0.8818\n",
      "Epoch 108/1000\n",
      "21/43 [=============>................] - ETA: 0s - loss: 0.8382 - accuracy: 0.7061\n",
      "Epoch 108: saving model to model/keypoint_classifier\\keypoint_classifier.hdf5\n",
      "43/43 [==============================] - 0s 4ms/step - loss: 0.8317 - accuracy: 0.7114 - val_loss: 0.4630 - val_accuracy: 0.8840\n",
      "Epoch 109/1000\n",
      "23/43 [===============>..............] - ETA: 0s - loss: 0.8362 - accuracy: 0.7055\n",
      "Epoch 109: saving model to model/keypoint_classifier\\keypoint_classifier.hdf5\n",
      "43/43 [==============================] - 0s 4ms/step - loss: 0.8437 - accuracy: 0.7029 - val_loss: 0.4620 - val_accuracy: 0.8818\n",
      "Epoch 110/1000\n",
      "17/43 [==========>...................] - ETA: 0s - loss: 0.8536 - accuracy: 0.6916\n",
      "Epoch 110: saving model to model/keypoint_classifier\\keypoint_classifier.hdf5\n",
      "43/43 [==============================] - 0s 4ms/step - loss: 0.8423 - accuracy: 0.6959 - val_loss: 0.4574 - val_accuracy: 0.8845\n",
      "Epoch 111/1000\n",
      "30/43 [===================>..........] - ETA: 0s - loss: 0.8577 - accuracy: 0.6964\n",
      "Epoch 111: saving model to model/keypoint_classifier\\keypoint_classifier.hdf5\n",
      "43/43 [==============================] - 0s 4ms/step - loss: 0.8484 - accuracy: 0.7018 - val_loss: 0.4610 - val_accuracy: 0.8818\n",
      "Epoch 112/1000\n",
      "43/43 [==============================] - ETA: 0s - loss: 0.8293 - accuracy: 0.7075\n",
      "Epoch 112: saving model to model/keypoint_classifier\\keypoint_classifier.hdf5\n",
      "43/43 [==============================] - 0s 4ms/step - loss: 0.8293 - accuracy: 0.7075 - val_loss: 0.4597 - val_accuracy: 0.8823\n",
      "Epoch 113/1000\n",
      "21/43 [=============>................] - ETA: 0s - loss: 0.8192 - accuracy: 0.7091\n",
      "Epoch 113: saving model to model/keypoint_classifier\\keypoint_classifier.hdf5\n",
      "43/43 [==============================] - 0s 4ms/step - loss: 0.8366 - accuracy: 0.7018 - val_loss: 0.4512 - val_accuracy: 0.8856\n",
      "Epoch 114/1000\n",
      "22/43 [==============>...............] - ETA: 0s - loss: 0.8466 - accuracy: 0.7085\n",
      "Epoch 114: saving model to model/keypoint_classifier\\keypoint_classifier.hdf5\n",
      "43/43 [==============================] - 0s 4ms/step - loss: 0.8220 - accuracy: 0.7154 - val_loss: 0.4576 - val_accuracy: 0.8851\n",
      "Epoch 115/1000\n",
      "38/43 [=========================>....] - ETA: 0s - loss: 0.8388 - accuracy: 0.7058\n",
      "Epoch 115: saving model to model/keypoint_classifier\\keypoint_classifier.hdf5\n",
      "43/43 [==============================] - 0s 4ms/step - loss: 0.8400 - accuracy: 0.7042 - val_loss: 0.4582 - val_accuracy: 0.8807\n",
      "Epoch 116/1000\n",
      "20/43 [============>.................] - ETA: 0s - loss: 0.8690 - accuracy: 0.6961\n",
      "Epoch 116: saving model to model/keypoint_classifier\\keypoint_classifier.hdf5\n",
      "43/43 [==============================] - 0s 4ms/step - loss: 0.8417 - accuracy: 0.7023 - val_loss: 0.4638 - val_accuracy: 0.8818\n",
      "Epoch 117/1000\n",
      "20/43 [============>.................] - ETA: 0s - loss: 0.8269 - accuracy: 0.7105\n",
      "Epoch 117: saving model to model/keypoint_classifier\\keypoint_classifier.hdf5\n",
      "43/43 [==============================] - 0s 4ms/step - loss: 0.8316 - accuracy: 0.7128 - val_loss: 0.4518 - val_accuracy: 0.8812\n",
      "Epoch 118/1000\n",
      "25/43 [================>.............] - ETA: 0s - loss: 0.8060 - accuracy: 0.7125\n",
      "Epoch 118: saving model to model/keypoint_classifier\\keypoint_classifier.hdf5\n",
      "43/43 [==============================] - 0s 4ms/step - loss: 0.8165 - accuracy: 0.7141 - val_loss: 0.4566 - val_accuracy: 0.8779\n",
      "Epoch 119/1000\n",
      "23/43 [===============>..............] - ETA: 0s - loss: 0.7970 - accuracy: 0.7140\n",
      "Epoch 119: saving model to model/keypoint_classifier\\keypoint_classifier.hdf5\n",
      "43/43 [==============================] - 0s 4ms/step - loss: 0.8245 - accuracy: 0.7075 - val_loss: 0.4501 - val_accuracy: 0.8840\n",
      "Epoch 120/1000\n",
      "34/43 [======================>.......] - ETA: 0s - loss: 0.8208 - accuracy: 0.7188\n",
      "Epoch 120: saving model to model/keypoint_classifier\\keypoint_classifier.hdf5\n",
      "43/43 [==============================] - 0s 5ms/step - loss: 0.8293 - accuracy: 0.7150 - val_loss: 0.4392 - val_accuracy: 0.8862\n",
      "Epoch 121/1000\n",
      "18/43 [===========>..................] - ETA: 0s - loss: 0.8139 - accuracy: 0.7092\n",
      "Epoch 121: saving model to model/keypoint_classifier\\keypoint_classifier.hdf5\n",
      "43/43 [==============================] - 0s 4ms/step - loss: 0.8260 - accuracy: 0.7127 - val_loss: 0.4539 - val_accuracy: 0.8823\n",
      "Epoch 122/1000\n",
      "18/43 [===========>..................] - ETA: 0s - loss: 0.8138 - accuracy: 0.7214\n",
      "Epoch 122: saving model to model/keypoint_classifier\\keypoint_classifier.hdf5\n",
      "43/43 [==============================] - 0s 4ms/step - loss: 0.8224 - accuracy: 0.7114 - val_loss: 0.4600 - val_accuracy: 0.8773\n",
      "Epoch 123/1000\n",
      "36/43 [========================>.....] - ETA: 0s - loss: 0.8417 - accuracy: 0.6968\n",
      "Epoch 123: saving model to model/keypoint_classifier\\keypoint_classifier.hdf5\n",
      "43/43 [==============================] - 0s 5ms/step - loss: 0.8369 - accuracy: 0.7033 - val_loss: 0.4602 - val_accuracy: 0.8790\n",
      "Epoch 124/1000\n",
      "41/43 [===========================>..] - ETA: 0s - loss: 0.7979 - accuracy: 0.7292\n",
      "Epoch 124: saving model to model/keypoint_classifier\\keypoint_classifier.hdf5\n",
      "43/43 [==============================] - 0s 5ms/step - loss: 0.7953 - accuracy: 0.7300 - val_loss: 0.4489 - val_accuracy: 0.8834\n",
      "Epoch 125/1000\n",
      "22/43 [==============>...............] - ETA: 0s - loss: 0.7868 - accuracy: 0.7219\n",
      "Epoch 125: saving model to model/keypoint_classifier\\keypoint_classifier.hdf5\n",
      "43/43 [==============================] - 0s 4ms/step - loss: 0.8110 - accuracy: 0.7138 - val_loss: 0.4554 - val_accuracy: 0.8807\n",
      "Epoch 126/1000\n",
      "22/43 [==============>...............] - ETA: 0s - loss: 0.8440 - accuracy: 0.7024\n",
      "Epoch 126: saving model to model/keypoint_classifier\\keypoint_classifier.hdf5\n",
      "43/43 [==============================] - 0s 4ms/step - loss: 0.8340 - accuracy: 0.7040 - val_loss: 0.4532 - val_accuracy: 0.8851\n",
      "Epoch 127/1000\n",
      "26/43 [=================>............] - ETA: 0s - loss: 0.8046 - accuracy: 0.7227\n",
      "Epoch 127: saving model to model/keypoint_classifier\\keypoint_classifier.hdf5\n",
      "43/43 [==============================] - 0s 4ms/step - loss: 0.8060 - accuracy: 0.7252 - val_loss: 0.4486 - val_accuracy: 0.8796\n",
      "Epoch 128/1000\n",
      "22/43 [==============>...............] - ETA: 0s - loss: 0.8271 - accuracy: 0.7212\n",
      "Epoch 128: saving model to model/keypoint_classifier\\keypoint_classifier.hdf5\n",
      "43/43 [==============================] - 0s 4ms/step - loss: 0.8239 - accuracy: 0.7104 - val_loss: 0.4441 - val_accuracy: 0.8867\n",
      "Epoch 129/1000\n",
      "23/43 [===============>..............] - ETA: 0s - loss: 0.8007 - accuracy: 0.7218\n",
      "Epoch 129: saving model to model/keypoint_classifier\\keypoint_classifier.hdf5\n",
      "43/43 [==============================] - 0s 4ms/step - loss: 0.7955 - accuracy: 0.7202 - val_loss: 0.4352 - val_accuracy: 0.8851\n",
      "Epoch 130/1000\n",
      "42/43 [============================>.] - ETA: 0s - loss: 0.8412 - accuracy: 0.7098\n",
      "Epoch 130: saving model to model/keypoint_classifier\\keypoint_classifier.hdf5\n",
      "43/43 [==============================] - 0s 4ms/step - loss: 0.8428 - accuracy: 0.7092 - val_loss: 0.4444 - val_accuracy: 0.8762\n",
      "Epoch 131/1000\n",
      "16/43 [==========>...................] - ETA: 0s - loss: 0.8088 - accuracy: 0.7109\n",
      "Epoch 131: saving model to model/keypoint_classifier\\keypoint_classifier.hdf5\n",
      "43/43 [==============================] - 0s 4ms/step - loss: 0.8298 - accuracy: 0.7020 - val_loss: 0.4587 - val_accuracy: 0.8773\n",
      "Epoch 132/1000\n",
      "18/43 [===========>..................] - ETA: 0s - loss: 0.8345 - accuracy: 0.7135\n",
      "Epoch 132: saving model to model/keypoint_classifier\\keypoint_classifier.hdf5\n",
      "43/43 [==============================] - 0s 4ms/step - loss: 0.8266 - accuracy: 0.7090 - val_loss: 0.4623 - val_accuracy: 0.8762\n",
      "Epoch 133/1000\n",
      "23/43 [===============>..............] - ETA: 0s - loss: 0.7775 - accuracy: 0.7245\n",
      "Epoch 133: saving model to model/keypoint_classifier\\keypoint_classifier.hdf5\n",
      "43/43 [==============================] - 0s 4ms/step - loss: 0.8044 - accuracy: 0.7163 - val_loss: 0.4506 - val_accuracy: 0.8823\n",
      "Epoch 134/1000\n",
      "23/43 [===============>..............] - ETA: 0s - loss: 0.8250 - accuracy: 0.7174\n",
      "Epoch 134: saving model to model/keypoint_classifier\\keypoint_classifier.hdf5\n",
      "43/43 [==============================] - 0s 4ms/step - loss: 0.8173 - accuracy: 0.7180 - val_loss: 0.4471 - val_accuracy: 0.8807\n",
      "Epoch 135/1000\n",
      "43/43 [==============================] - ETA: 0s - loss: 0.8011 - accuracy: 0.7226\n",
      "Epoch 135: saving model to model/keypoint_classifier\\keypoint_classifier.hdf5\n",
      "43/43 [==============================] - 0s 4ms/step - loss: 0.8011 - accuracy: 0.7226 - val_loss: 0.4428 - val_accuracy: 0.8851\n",
      "Epoch 136/1000\n",
      "23/43 [===============>..............] - ETA: 0s - loss: 0.8150 - accuracy: 0.7086\n",
      "Epoch 136: saving model to model/keypoint_classifier\\keypoint_classifier.hdf5\n",
      "43/43 [==============================] - 0s 4ms/step - loss: 0.8226 - accuracy: 0.7075 - val_loss: 0.4596 - val_accuracy: 0.8779\n",
      "Epoch 137/1000\n",
      "23/43 [===============>..............] - ETA: 0s - loss: 0.8101 - accuracy: 0.7092\n",
      "Epoch 137: saving model to model/keypoint_classifier\\keypoint_classifier.hdf5\n",
      "43/43 [==============================] - 0s 4ms/step - loss: 0.8259 - accuracy: 0.7071 - val_loss: 0.4526 - val_accuracy: 0.8873\n",
      "Epoch 138/1000\n",
      "22/43 [==============>...............] - ETA: 0s - loss: 0.8327 - accuracy: 0.7063\n",
      "Epoch 138: saving model to model/keypoint_classifier\\keypoint_classifier.hdf5\n",
      "43/43 [==============================] - 0s 4ms/step - loss: 0.8193 - accuracy: 0.7139 - val_loss: 0.4493 - val_accuracy: 0.8851\n",
      "Epoch 139/1000\n",
      "22/43 [==============>...............] - ETA: 0s - loss: 0.8253 - accuracy: 0.7148\n",
      "Epoch 139: saving model to model/keypoint_classifier\\keypoint_classifier.hdf5\n",
      "43/43 [==============================] - 0s 4ms/step - loss: 0.7931 - accuracy: 0.7193 - val_loss: 0.4481 - val_accuracy: 0.8818\n",
      "Epoch 140/1000\n",
      "39/43 [==========================>...] - ETA: 0s - loss: 0.8128 - accuracy: 0.7087\n",
      "Epoch 140: saving model to model/keypoint_classifier\\keypoint_classifier.hdf5\n",
      "43/43 [==============================] - 0s 4ms/step - loss: 0.8133 - accuracy: 0.7095 - val_loss: 0.4473 - val_accuracy: 0.8796\n",
      "Epoch 141/1000\n",
      "43/43 [==============================] - ETA: 0s - loss: 0.8073 - accuracy: 0.7200\n",
      "Epoch 141: saving model to model/keypoint_classifier\\keypoint_classifier.hdf5\n",
      "43/43 [==============================] - 0s 4ms/step - loss: 0.8073 - accuracy: 0.7200 - val_loss: 0.4469 - val_accuracy: 0.8807\n",
      "Epoch 142/1000\n",
      "23/43 [===============>..............] - ETA: 0s - loss: 0.8089 - accuracy: 0.7137\n",
      "Epoch 142: saving model to model/keypoint_classifier\\keypoint_classifier.hdf5\n",
      "43/43 [==============================] - 0s 4ms/step - loss: 0.7971 - accuracy: 0.7204 - val_loss: 0.4489 - val_accuracy: 0.8790\n",
      "Epoch 143/1000\n",
      "22/43 [==============>...............] - ETA: 0s - loss: 0.8146 - accuracy: 0.7216\n",
      "Epoch 143: saving model to model/keypoint_classifier\\keypoint_classifier.hdf5\n",
      "43/43 [==============================] - 0s 4ms/step - loss: 0.7918 - accuracy: 0.7278 - val_loss: 0.4424 - val_accuracy: 0.8829\n",
      "Epoch 144/1000\n",
      "21/43 [=============>................] - ETA: 0s - loss: 0.7759 - accuracy: 0.7266\n",
      "Epoch 144: saving model to model/keypoint_classifier\\keypoint_classifier.hdf5\n",
      "43/43 [==============================] - 0s 4ms/step - loss: 0.7925 - accuracy: 0.7255 - val_loss: 0.4349 - val_accuracy: 0.8829\n",
      "Epoch 145/1000\n",
      "19/43 [============>.................] - ETA: 0s - loss: 0.7792 - accuracy: 0.7225\n",
      "Epoch 145: saving model to model/keypoint_classifier\\keypoint_classifier.hdf5\n",
      "43/43 [==============================] - 0s 4ms/step - loss: 0.7797 - accuracy: 0.7267 - val_loss: 0.4445 - val_accuracy: 0.8768\n",
      "Epoch 146/1000\n",
      "16/43 [==========>...................] - ETA: 0s - loss: 0.7736 - accuracy: 0.7393\n",
      "Epoch 146: saving model to model/keypoint_classifier\\keypoint_classifier.hdf5\n",
      "43/43 [==============================] - 0s 4ms/step - loss: 0.7798 - accuracy: 0.7303 - val_loss: 0.4368 - val_accuracy: 0.8796\n",
      "Epoch 147/1000\n",
      "40/43 [==========================>...] - ETA: 0s - loss: 0.8151 - accuracy: 0.7152\n",
      "Epoch 147: saving model to model/keypoint_classifier\\keypoint_classifier.hdf5\n",
      "43/43 [==============================] - 0s 4ms/step - loss: 0.8086 - accuracy: 0.7182 - val_loss: 0.4376 - val_accuracy: 0.8807\n",
      "Epoch 148/1000\n",
      "39/43 [==========================>...] - ETA: 0s - loss: 0.7792 - accuracy: 0.7242\n",
      "Epoch 148: saving model to model/keypoint_classifier\\keypoint_classifier.hdf5\n",
      "43/43 [==============================] - 0s 5ms/step - loss: 0.7780 - accuracy: 0.7257 - val_loss: 0.4457 - val_accuracy: 0.8779\n",
      "Epoch 149/1000\n",
      "23/43 [===============>..............] - ETA: 0s - loss: 0.7890 - accuracy: 0.7255\n",
      "Epoch 149: saving model to model/keypoint_classifier\\keypoint_classifier.hdf5\n",
      "43/43 [==============================] - 0s 4ms/step - loss: 0.7988 - accuracy: 0.7217 - val_loss: 0.4399 - val_accuracy: 0.8851\n",
      "Epoch 150/1000\n",
      "39/43 [==========================>...] - ETA: 0s - loss: 0.7906 - accuracy: 0.7284\n",
      "Epoch 150: saving model to model/keypoint_classifier\\keypoint_classifier.hdf5\n",
      "43/43 [==============================] - 0s 4ms/step - loss: 0.7885 - accuracy: 0.7290 - val_loss: 0.4486 - val_accuracy: 0.8751\n",
      "Epoch 151/1000\n",
      "22/43 [==============>...............] - ETA: 0s - loss: 0.8092 - accuracy: 0.7294\n",
      "Epoch 151: saving model to model/keypoint_classifier\\keypoint_classifier.hdf5\n",
      "43/43 [==============================] - 0s 4ms/step - loss: 0.8039 - accuracy: 0.7232 - val_loss: 0.4455 - val_accuracy: 0.8807\n",
      "Epoch 152/1000\n",
      "43/43 [==============================] - ETA: 0s - loss: 0.7935 - accuracy: 0.7246\n",
      "Epoch 152: saving model to model/keypoint_classifier\\keypoint_classifier.hdf5\n",
      "43/43 [==============================] - 0s 4ms/step - loss: 0.7935 - accuracy: 0.7246 - val_loss: 0.4478 - val_accuracy: 0.8801\n",
      "Epoch 153/1000\n",
      "17/43 [==========>...................] - ETA: 0s - loss: 0.8146 - accuracy: 0.7192\n",
      "Epoch 153: saving model to model/keypoint_classifier\\keypoint_classifier.hdf5\n",
      "43/43 [==============================] - 0s 4ms/step - loss: 0.7881 - accuracy: 0.7268 - val_loss: 0.4402 - val_accuracy: 0.8856\n",
      "Epoch 154/1000\n",
      "43/43 [==============================] - ETA: 0s - loss: 0.7871 - accuracy: 0.7281\n",
      "Epoch 154: saving model to model/keypoint_classifier\\keypoint_classifier.hdf5\n",
      "43/43 [==============================] - 0s 5ms/step - loss: 0.7871 - accuracy: 0.7281 - val_loss: 0.4442 - val_accuracy: 0.8785\n",
      "Epoch 155/1000\n",
      "22/43 [==============>...............] - ETA: 0s - loss: 0.8305 - accuracy: 0.7088\n",
      "Epoch 155: saving model to model/keypoint_classifier\\keypoint_classifier.hdf5\n",
      "43/43 [==============================] - 0s 5ms/step - loss: 0.8123 - accuracy: 0.7180 - val_loss: 0.4450 - val_accuracy: 0.8768\n",
      "Epoch 156/1000\n",
      "23/43 [===============>..............] - ETA: 0s - loss: 0.7917 - accuracy: 0.7283\n",
      "Epoch 156: saving model to model/keypoint_classifier\\keypoint_classifier.hdf5\n",
      "43/43 [==============================] - 0s 4ms/step - loss: 0.7929 - accuracy: 0.7265 - val_loss: 0.4417 - val_accuracy: 0.8807\n",
      "Epoch 157/1000\n",
      "22/43 [==============>...............] - ETA: 0s - loss: 0.7814 - accuracy: 0.7340\n",
      "Epoch 157: saving model to model/keypoint_classifier\\keypoint_classifier.hdf5\n",
      "43/43 [==============================] - 0s 4ms/step - loss: 0.7812 - accuracy: 0.7278 - val_loss: 0.4366 - val_accuracy: 0.8878\n",
      "Epoch 158/1000\n",
      "23/43 [===============>..............] - ETA: 0s - loss: 0.7767 - accuracy: 0.7347\n",
      "Epoch 158: saving model to model/keypoint_classifier\\keypoint_classifier.hdf5\n",
      "43/43 [==============================] - 0s 4ms/step - loss: 0.7855 - accuracy: 0.7270 - val_loss: 0.4505 - val_accuracy: 0.8856\n",
      "Epoch 159/1000\n",
      "23/43 [===============>..............] - ETA: 0s - loss: 0.7966 - accuracy: 0.7221\n",
      "Epoch 159: saving model to model/keypoint_classifier\\keypoint_classifier.hdf5\n",
      "43/43 [==============================] - 0s 4ms/step - loss: 0.7950 - accuracy: 0.7209 - val_loss: 0.4478 - val_accuracy: 0.8823\n",
      "Epoch 160/1000\n",
      "22/43 [==============>...............] - ETA: 0s - loss: 0.7855 - accuracy: 0.7255\n",
      "Epoch 160: saving model to model/keypoint_classifier\\keypoint_classifier.hdf5\n",
      "43/43 [==============================] - 0s 4ms/step - loss: 0.7855 - accuracy: 0.7252 - val_loss: 0.4487 - val_accuracy: 0.8785\n",
      "Epoch 161/1000\n",
      "23/43 [===============>..............] - ETA: 0s - loss: 0.8005 - accuracy: 0.7232\n",
      "Epoch 161: saving model to model/keypoint_classifier\\keypoint_classifier.hdf5\n",
      "43/43 [==============================] - 0s 4ms/step - loss: 0.7919 - accuracy: 0.7246 - val_loss: 0.4366 - val_accuracy: 0.8840\n",
      "Epoch 162/1000\n",
      "23/43 [===============>..............] - ETA: 0s - loss: 0.8030 - accuracy: 0.7167\n",
      "Epoch 162: saving model to model/keypoint_classifier\\keypoint_classifier.hdf5\n",
      "43/43 [==============================] - 0s 4ms/step - loss: 0.7842 - accuracy: 0.7270 - val_loss: 0.4321 - val_accuracy: 0.8862\n",
      "Epoch 163/1000\n",
      "24/43 [===============>..............] - ETA: 0s - loss: 0.7903 - accuracy: 0.7230\n",
      "Epoch 163: saving model to model/keypoint_classifier\\keypoint_classifier.hdf5\n",
      "43/43 [==============================] - 0s 4ms/step - loss: 0.8018 - accuracy: 0.7193 - val_loss: 0.4423 - val_accuracy: 0.8829\n",
      "Epoch 164/1000\n",
      "23/43 [===============>..............] - ETA: 0s - loss: 0.7903 - accuracy: 0.7109\n",
      "Epoch 164: saving model to model/keypoint_classifier\\keypoint_classifier.hdf5\n",
      "43/43 [==============================] - 0s 4ms/step - loss: 0.8020 - accuracy: 0.7150 - val_loss: 0.4429 - val_accuracy: 0.8801\n",
      "Epoch 165/1000\n",
      "23/43 [===============>..............] - ETA: 0s - loss: 0.8065 - accuracy: 0.7208\n",
      "Epoch 165: saving model to model/keypoint_classifier\\keypoint_classifier.hdf5\n",
      "43/43 [==============================] - 0s 4ms/step - loss: 0.7957 - accuracy: 0.7241 - val_loss: 0.4456 - val_accuracy: 0.8779\n",
      "Epoch 166/1000\n",
      "23/43 [===============>..............] - ETA: 0s - loss: 0.8134 - accuracy: 0.7286\n",
      "Epoch 166: saving model to model/keypoint_classifier\\keypoint_classifier.hdf5\n",
      "43/43 [==============================] - 0s 4ms/step - loss: 0.8001 - accuracy: 0.7261 - val_loss: 0.4554 - val_accuracy: 0.8746\n",
      "Epoch 167/1000\n",
      "42/43 [============================>.] - ETA: 0s - loss: 0.7798 - accuracy: 0.7292\n",
      "Epoch 167: saving model to model/keypoint_classifier\\keypoint_classifier.hdf5\n",
      "43/43 [==============================] - 0s 4ms/step - loss: 0.7810 - accuracy: 0.7289 - val_loss: 0.4539 - val_accuracy: 0.8735\n",
      "Epoch 168/1000\n",
      "43/43 [==============================] - ETA: 0s - loss: 0.7636 - accuracy: 0.7386\n",
      "Epoch 168: saving model to model/keypoint_classifier\\keypoint_classifier.hdf5\n",
      "43/43 [==============================] - 0s 5ms/step - loss: 0.7636 - accuracy: 0.7386 - val_loss: 0.4326 - val_accuracy: 0.8867\n",
      "Epoch 169/1000\n",
      "25/43 [================>.............] - ETA: 0s - loss: 0.8095 - accuracy: 0.7175\n",
      "Epoch 169: saving model to model/keypoint_classifier\\keypoint_classifier.hdf5\n",
      "43/43 [==============================] - 0s 5ms/step - loss: 0.8077 - accuracy: 0.7141 - val_loss: 0.4432 - val_accuracy: 0.8834\n",
      "Epoch 170/1000\n",
      "21/43 [=============>................] - ETA: 0s - loss: 0.7983 - accuracy: 0.7180\n",
      "Epoch 170: saving model to model/keypoint_classifier\\keypoint_classifier.hdf5\n",
      "43/43 [==============================] - 0s 4ms/step - loss: 0.7920 - accuracy: 0.7232 - val_loss: 0.4501 - val_accuracy: 0.8812\n",
      "Epoch 171/1000\n",
      "27/43 [=================>............] - ETA: 0s - loss: 0.7953 - accuracy: 0.7190\n",
      "Epoch 171: saving model to model/keypoint_classifier\\keypoint_classifier.hdf5\n",
      "43/43 [==============================] - 0s 4ms/step - loss: 0.8038 - accuracy: 0.7138 - val_loss: 0.4527 - val_accuracy: 0.8773\n",
      "Epoch 172/1000\n",
      "25/43 [================>.............] - ETA: 0s - loss: 0.7822 - accuracy: 0.7344\n",
      "Epoch 172: saving model to model/keypoint_classifier\\keypoint_classifier.hdf5\n",
      "43/43 [==============================] - 0s 4ms/step - loss: 0.7760 - accuracy: 0.7338 - val_loss: 0.4533 - val_accuracy: 0.8768\n",
      "Epoch 173/1000\n",
      "22/43 [==============>...............] - ETA: 0s - loss: 0.7844 - accuracy: 0.7319\n",
      "Epoch 173: saving model to model/keypoint_classifier\\keypoint_classifier.hdf5\n",
      "43/43 [==============================] - 0s 4ms/step - loss: 0.8013 - accuracy: 0.7241 - val_loss: 0.4532 - val_accuracy: 0.8768\n",
      "Epoch 174/1000\n",
      "20/43 [============>.................] - ETA: 0s - loss: 0.7749 - accuracy: 0.7305\n",
      "Epoch 174: saving model to model/keypoint_classifier\\keypoint_classifier.hdf5\n",
      "43/43 [==============================] - 0s 4ms/step - loss: 0.7687 - accuracy: 0.7309 - val_loss: 0.4432 - val_accuracy: 0.8818\n",
      "Epoch 175/1000\n",
      "43/43 [==============================] - ETA: 0s - loss: 0.7948 - accuracy: 0.7232\n",
      "Epoch 175: saving model to model/keypoint_classifier\\keypoint_classifier.hdf5\n",
      "43/43 [==============================] - 0s 4ms/step - loss: 0.7948 - accuracy: 0.7232 - val_loss: 0.4552 - val_accuracy: 0.8724\n",
      "Epoch 176/1000\n",
      "38/43 [=========================>....] - ETA: 0s - loss: 0.7924 - accuracy: 0.7185\n",
      "Epoch 176: saving model to model/keypoint_classifier\\keypoint_classifier.hdf5\n",
      "43/43 [==============================] - 0s 4ms/step - loss: 0.7811 - accuracy: 0.7226 - val_loss: 0.4679 - val_accuracy: 0.8685\n",
      "Epoch 177/1000\n",
      "38/43 [=========================>....] - ETA: 0s - loss: 0.7696 - accuracy: 0.7321\n",
      "Epoch 177: saving model to model/keypoint_classifier\\keypoint_classifier.hdf5\n",
      "43/43 [==============================] - 0s 4ms/step - loss: 0.7746 - accuracy: 0.7327 - val_loss: 0.4504 - val_accuracy: 0.8773\n",
      "Epoch 178/1000\n",
      "37/43 [========================>.....] - ETA: 0s - loss: 0.7560 - accuracy: 0.7367\n",
      "Epoch 178: saving model to model/keypoint_classifier\\keypoint_classifier.hdf5\n",
      "43/43 [==============================] - 0s 5ms/step - loss: 0.7612 - accuracy: 0.7366 - val_loss: 0.4423 - val_accuracy: 0.8751\n",
      "Epoch 179/1000\n",
      "24/43 [===============>..............] - ETA: 0s - loss: 0.7843 - accuracy: 0.7331\n",
      "Epoch 179: saving model to model/keypoint_classifier\\keypoint_classifier.hdf5\n",
      "43/43 [==============================] - 0s 5ms/step - loss: 0.7779 - accuracy: 0.7325 - val_loss: 0.4536 - val_accuracy: 0.8757\n",
      "Epoch 180/1000\n",
      "22/43 [==============>...............] - ETA: 0s - loss: 0.7967 - accuracy: 0.7227\n",
      "Epoch 180: saving model to model/keypoint_classifier\\keypoint_classifier.hdf5\n",
      "43/43 [==============================] - 0s 4ms/step - loss: 0.7700 - accuracy: 0.7381 - val_loss: 0.4388 - val_accuracy: 0.8829\n",
      "Epoch 181/1000\n",
      "23/43 [===============>..............] - ETA: 0s - loss: 0.7677 - accuracy: 0.7446\n",
      "Epoch 181: saving model to model/keypoint_classifier\\keypoint_classifier.hdf5\n",
      "43/43 [==============================] - 0s 4ms/step - loss: 0.7762 - accuracy: 0.7381 - val_loss: 0.4477 - val_accuracy: 0.8746\n",
      "Epoch 182/1000\n",
      "36/43 [========================>.....] - ETA: 0s - loss: 0.7856 - accuracy: 0.7320\n",
      "Epoch 182: saving model to model/keypoint_classifier\\keypoint_classifier.hdf5\n",
      "43/43 [==============================] - 0s 5ms/step - loss: 0.7866 - accuracy: 0.7320 - val_loss: 0.4359 - val_accuracy: 0.8845\n",
      "Epoch 182: early stopping\n"
     ]
    },
    {
     "data": {
      "text/plain": [
       "<keras.src.callbacks.History at 0x2a5ffb56d10>"
      ]
     },
     "execution_count": 33,
     "metadata": {},
     "output_type": "execute_result"
    }
   ],
   "source": [
    "model.fit(\n",
    "    X_train,\n",
    "    y_train,\n",
    "    epochs=1000,\n",
    "    batch_size=128,\n",
    "    validation_data=(X_test, y_test),\n",
    "    callbacks=[cp_callback, es_callback]\n",
    ")"
   ]
  },
  {
   "cell_type": "code",
   "execution_count": 17,
   "metadata": {
    "colab": {
     "base_uri": "https://localhost:8080/"
    },
    "id": "pxvb2Y299hE3",
    "outputId": "59eb3185-2e37-4b9e-bc9d-ab1b8ac29b7f"
   },
   "outputs": [
    {
     "name": "stdout",
     "output_type": "stream",
     "text": [
      "WARNING:tensorflow:From C:\\Users\\shiva\\AppData\\Local\\Programs\\Python\\Python311\\Lib\\site-packages\\keras\\src\\utils\\tf_utils.py:492: The name tf.ragged.RaggedTensorValue is deprecated. Please use tf.compat.v1.ragged.RaggedTensorValue instead.\n",
      "\n",
      "WARNING:tensorflow:From C:\\Users\\shiva\\AppData\\Local\\Programs\\Python\\Python311\\Lib\\site-packages\\keras\\src\\engine\\base_layer_utils.py:384: The name tf.executing_eagerly_outside_functions is deprecated. Please use tf.compat.v1.executing_eagerly_outside_functions instead.\n",
      "\n",
      "15/15 [==============================] - 1s 3ms/step - loss: 2.2788 - accuracy: 0.0667\n"
     ]
    }
   ],
   "source": [
    "# Model evaluation\n",
    "val_loss, val_acc = model.evaluate(X_test, y_test, batch_size=128)"
   ]
  },
  {
   "cell_type": "code",
   "execution_count": 18,
   "metadata": {
    "id": "RBkmDeUW9hE4"
   },
   "outputs": [
    {
     "name": "stdout",
     "output_type": "stream",
     "text": [
      "WARNING:tensorflow:No training configuration found in the save file, so the model was *not* compiled. Compile it manually.\n"
     ]
    }
   ],
   "source": [
    "# Loading the saved model\n",
    "model = tf.keras.models.load_model(model_save_path)"
   ]
  },
  {
   "cell_type": "code",
   "execution_count": 19,
   "metadata": {
    "colab": {
     "base_uri": "https://localhost:8080/"
    },
    "id": "tFz9Tb0I9hE4",
    "outputId": "1c3b3528-54ae-4ee2-ab04-77429211cbef"
   },
   "outputs": [
    {
     "name": "stdout",
     "output_type": "stream",
     "text": [
      "1/1 [==============================] - 0s 101ms/step\n",
      "[2.1256084e-02 5.7526812e-02 8.6372912e-01 8.8672641e-05 1.3137153e-02\n",
      " 1.0085130e-02 3.1990111e-02 2.1869128e-03]\n",
      "2\n"
     ]
    }
   ],
   "source": [
    "# Inference test\n",
    "predict_result = model.predict(np.array([X_test[0]]))\n",
    "print(np.squeeze(predict_result))\n",
    "print(np.argmax(np.squeeze(predict_result)))"
   ]
  },
  {
   "cell_type": "markdown",
   "metadata": {
    "id": "S3U4yNWx9hE4"
   },
   "source": [
    "# Confusion matrix"
   ]
  },
  {
   "cell_type": "code",
   "execution_count": 20,
   "metadata": {
    "colab": {
     "base_uri": "https://localhost:8080/",
     "height": 582
    },
    "id": "AP1V6SCk9hE5",
    "outputId": "08e41a80-7a4a-4619-8125-ecc371368d19"
   },
   "outputs": [
    {
     "name": "stdout",
     "output_type": "stream",
     "text": [
      "58/58 [==============================] - 0s 2ms/step\n"
     ]
    },
    {
     "data": {
      "image/png": "[encoded data removed]",
      "text/plain": [
       "<Figure size 700x600 with 2 Axes>"
      ]
     },
     "metadata": {},
     "output_type": "display_data"
    },
    {
     "name": "stdout",
     "output_type": "stream",
     "text": [
      "Classification Report\n",
      "              precision    recall  f1-score   support\n",
      "\n",
      "           0       0.97      0.86      0.91       406\n",
      "           1       0.95      0.81      0.87       409\n",
      "           2       0.80      0.98      0.88       311\n",
      "           3       0.82      0.98      0.89        81\n",
      "           4       0.98      0.86      0.92       213\n",
      "           5       0.89      0.87      0.88       122\n",
      "           6       0.81      0.98      0.89       173\n",
      "           7       0.66      0.96      0.78        98\n",
      "           8       0.00      0.00      0.00        31\n",
      "\n",
      "    accuracy                           0.88      1844\n",
      "   macro avg       0.77      0.81      0.78      1844\n",
      "weighted avg       0.88      0.88      0.87      1844\n",
      "\n"
     ]
    },
    {
     "name": "stderr",
     "output_type": "stream",
     "text": [
      "C:\\Users\\shiva\\AppData\\Local\\Programs\\Python\\Python311\\Lib\\site-packages\\sklearn\\metrics\\_classification.py:1471: UndefinedMetricWarning: Precision and F-score are ill-defined and being set to 0.0 in labels with no predicted samples. Use `zero_division` parameter to control this behavior.\n",
      "  _warn_prf(average, modifier, msg_start, len(result))\n",
      "C:\\Users\\shiva\\AppData\\Local\\Programs\\Python\\Python311\\Lib\\site-packages\\sklearn\\metrics\\_classification.py:1471: UndefinedMetricWarning: Precision and F-score are ill-defined and being set to 0.0 in labels with no predicted samples. Use `zero_division` parameter to control this behavior.\n",
      "  _warn_prf(average, modifier, msg_start, len(result))\n",
      "C:\\Users\\shiva\\AppData\\Local\\Programs\\Python\\Python311\\Lib\\site-packages\\sklearn\\metrics\\_classification.py:1471: UndefinedMetricWarning: Precision and F-score are ill-defined and being set to 0.0 in labels with no predicted samples. Use `zero_division` parameter to control this behavior.\n",
      "  _warn_prf(average, modifier, msg_start, len(result))\n"
     ]
    }
   ],
   "source": [
    "import pandas as pd\n",
    "import seaborn as sns\n",
    "import matplotlib.pyplot as plt\n",
    "from sklearn.metrics import confusion_matrix, classification_report\n",
    "\n",
    "def print_confusion_matrix(y_true, y_pred, report=True):\n",
    "    labels = sorted(list(set(y_true)))\n",
    "    cmx_data = confusion_matrix(y_true, y_pred, labels=labels)\n",
    "    \n",
    "    df_cmx = pd.DataFrame(cmx_data, index=labels, columns=labels)\n",
    " \n",
    "    fig, ax = plt.subplots(figsize=(7, 6))\n",
    "    sns.heatmap(df_cmx, annot=True, fmt='g' ,square=False)\n",
    "    ax.set_ylim(len(set(y_true)), 0)\n",
    "    plt.show()\n",
    "    \n",
    "    if report:\n",
    "        print('Classification Report')\n",
    "        print(classification_report(y_test, y_pred))\n",
    "\n",
    "Y_pred = model.predict(X_test)\n",
    "y_pred = np.argmax(Y_pred, axis=1)\n",
    "\n",
    "print_confusion_matrix(y_test, y_pred)"
   ]
  },
  {
   "cell_type": "markdown",
   "metadata": {
    "id": "FNP6aqzc9hE5"
   },
   "source": [
    "# Convert to model for Tensorflow-Lite"
   ]
  },
  {
   "cell_type": "code",
   "execution_count": 21,
   "metadata": {
    "id": "ODjnYyld9hE6"
   },
   "outputs": [
    {
     "name": "stdout",
     "output_type": "stream",
     "text": [
      "WARNING:tensorflow:Compiled the loaded model, but the compiled metrics have yet to be built. `model.compile_metrics` will be empty until you train or evaluate the model.\n"
     ]
    },
    {
     "name": "stderr",
     "output_type": "stream",
     "text": [
      "C:\\Users\\shiva\\AppData\\Local\\Programs\\Python\\Python311\\Lib\\site-packages\\keras\\src\\engine\\training.py:3103: UserWarning: You are saving your model as an HDF5 file via `model.save()`. This file format is considered legacy. We recommend using instead the native Keras format, e.g. `model.save('my_model.keras')`.\n",
      "  saving_api.save_model(\n"
     ]
    }
   ],
   "source": [
    "# Save as a model dedicated to inference\n",
    "model.save(model_save_path, include_optimizer=False)"
   ]
  },
  {
   "cell_type": "code",
   "execution_count": 22,
   "metadata": {
    "colab": {
     "base_uri": "https://localhost:8080/"
    },
    "id": "zRfuK8Y59hE6",
    "outputId": "a4ca585c-b5d5-4244-8291-8674063209bb"
   },
   "outputs": [
    {
     "name": "stdout",
     "output_type": "stream",
     "text": [
      "INFO:tensorflow:Assets written to: C:\\Users\\shiva\\AppData\\Local\\Temp\\tmpd42p7hsx\\assets\n"
     ]
    },
    {
     "name": "stderr",
     "output_type": "stream",
     "text": [
      "INFO:tensorflow:Assets written to: C:\\Users\\shiva\\AppData\\Local\\Temp\\tmpd42p7hsx\\assets\n"
     ]
    },
    {
     "data": {
      "text/plain": [
       "6748"
      ]
     },
     "execution_count": 22,
     "metadata": {},
     "output_type": "execute_result"
    }
   ],
   "source": [
    "# Transform model (quantization)\n",
    "\n",
    "converter = tf.lite.TFLiteConverter.from_keras_model(model)\n",
    "converter.optimizations = [tf.lite.Optimize.DEFAULT]\n",
    "tflite_quantized_model = converter.convert()\n",
    "\n",
    "open(tflite_save_path, 'wb').write(tflite_quantized_model)"
   ]
  },
  {
   "cell_type": "markdown",
   "metadata": {
    "id": "CHBPBXdx9hE6"
   },
   "source": [
    "# Inference test"
   ]
  },
  {
   "cell_type": "code",
   "execution_count": 23,
   "metadata": {
    "id": "mGAzLocO9hE7"
   },
   "outputs": [],
   "source": [
    "interpreter = tf.lite.Interpreter(model_path=tflite_save_path)\n",
    "interpreter.allocate_tensors()"
   ]
  },
  {
   "cell_type": "code",
   "execution_count": 24,
   "metadata": {
    "id": "oQuDK8YS9hE7"
   },
   "outputs": [],
   "source": [
    "# Get I / O tensor\n",
    "input_details = interpreter.get_input_details()\n",
    "output_details = interpreter.get_output_details()"
   ]
  },
  {
   "cell_type": "code",
   "execution_count": 25,
   "metadata": {
    "id": "2_ixAf_l9hE7"
   },
   "outputs": [],
   "source": [
    "interpreter.set_tensor(input_details[0]['index'], np.array([X_test[0]]))"
   ]
  },
  {
   "cell_type": "code",
   "execution_count": 26,
   "metadata": {
    "colab": {
     "base_uri": "https://localhost:8080/"
    },
    "id": "s4FoAnuc9hE7",
    "outputId": "91f18257-8d8b-4ef3-c558-e9b5f94fabbf",
    "scrolled": true
   },
   "outputs": [
    {
     "name": "stdout",
     "output_type": "stream",
     "text": [
      "CPU times: total: 0 ns\n",
      "Wall time: 1 ms\n"
     ]
    }
   ],
   "source": [
    "%%time\n",
    "# Inference implementation\n",
    "interpreter.invoke()\n",
    "tflite_results = interpreter.get_tensor(output_details[0]['index'])"
   ]
  },
  {
   "cell_type": "code",
   "execution_count": 27,
   "metadata": {
    "colab": {
     "base_uri": "https://localhost:8080/"
    },
    "id": "vONjp19J9hE8",
    "outputId": "77205e24-fd00-42c4-f7b6-e06e527c2cba"
   },
   "outputs": [
    {
     "name": "stdout",
     "output_type": "stream",
     "text": [
      "[2.1256080e-02 5.7526831e-02 8.6372900e-01 8.8672801e-05 1.3137158e-02\n",
      " 1.0085128e-02 3.1990141e-02 2.1869158e-03]\n",
      "2\n"
     ]
    }
   ],
   "source": [
    "print(np.squeeze(tflite_results))\n",
    "print(np.argmax(np.squeeze(tflite_results)))"
   ]
  },
  {
   "cell_type": "code",
   "execution_count": null,
   "metadata": {},
   "outputs": [],
   "source": []
  }
 ],
 "metadata": {
  "accelerator": "GPU",
  "colab": {
   "collapsed_sections": [],
   "name": "keypoint_classification_EN.ipynb",
   "provenance": [],
   "toc_visible": true
  },
  "kernelspec": {
   "display_name": "Python 3 (ipykernel)",
   "language": "python",
   "name": "python3"
  },
  "language_info": {
   "codemirror_mode": {
    "name": "ipython",
    "version": 3
   },
   "file_extension": ".py",
   "mimetype": "text/x-python",
   "name": "python",
   "nbconvert_exporter": "python",
   "pygments_lexer": "ipython3",
   "version": "3.11.0"
  }
 },
 "nbformat": 4,
 "nbformat_minor": 4
}
